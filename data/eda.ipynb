{
 "cells": [
  {
   "cell_type": "markdown",
   "source": [
    "# Exploratory Data Analysis"
   ],
   "metadata": {}
  },
  {
   "cell_type": "markdown",
   "source": [
    "## Day-Ahead Prices"
   ],
   "metadata": {}
  },
  {
   "cell_type": "code",
   "execution_count": 61,
   "source": [
    "import pandas as pd\n",
    "import numpy as np \n",
    "import matplotlib as plt\n",
    "\n",
    "# concat year files\n",
    "\n",
    "dayahead = pd.DataFrame(pd.read_csv(\"day-ahead-prices/Day-ahead_Prices_201901010000-202001010000.csv\", header=0))\n",
    "dayahead = pd.concat([dayahead, pd.read_csv(\"day-ahead-prices/Day-ahead_Prices_202001010000-202101010000.csv\", header=0)])\n",
    "dayahead = pd.concat([dayahead, pd.read_csv(\"day-ahead-prices/Day-ahead_Prices_202101010000-202201010000.csv\", header=0)])\n",
    "dayahead = pd.concat([dayahead, pd.read_csv(\"day-ahead-prices/Day-ahead_Prices_202201010000-202301010000.csv\", header=0)])\n",
    "dayahead['datetime'] = dayahead['MTU (UTC)'].str[0:16]\n",
    "dayahead['datetime'] = pd.to_datetime(dayahead['datetime'])\n",
    "\n",
    "dayahead.head()\n"
   ],
   "outputs": [
    {
     "output_type": "execute_result",
     "data": {
      "text/html": [
       "<div>\n",
       "<style scoped>\n",
       "    .dataframe tbody tr th:only-of-type {\n",
       "        vertical-align: middle;\n",
       "    }\n",
       "\n",
       "    .dataframe tbody tr th {\n",
       "        vertical-align: top;\n",
       "    }\n",
       "\n",
       "    .dataframe thead th {\n",
       "        text-align: right;\n",
       "    }\n",
       "</style>\n",
       "<table border=\"1\" class=\"dataframe\">\n",
       "  <thead>\n",
       "    <tr style=\"text-align: right;\">\n",
       "      <th></th>\n",
       "      <th>MTU (UTC)</th>\n",
       "      <th>Day-ahead Price [EUR/MWh]</th>\n",
       "      <th>Currency</th>\n",
       "      <th>BZN|FI</th>\n",
       "      <th>datetime</th>\n",
       "    </tr>\n",
       "  </thead>\n",
       "  <tbody>\n",
       "    <tr>\n",
       "      <th>0</th>\n",
       "      <td>01.01.2019 00:00 - 01.01.2019 01:00</td>\n",
       "      <td>10.07</td>\n",
       "      <td>EUR</td>\n",
       "      <td>NaN</td>\n",
       "      <td>2019-01-01 00:00:00</td>\n",
       "    </tr>\n",
       "    <tr>\n",
       "      <th>1</th>\n",
       "      <td>01.01.2019 01:00 - 01.01.2019 02:00</td>\n",
       "      <td>10.03</td>\n",
       "      <td>EUR</td>\n",
       "      <td>NaN</td>\n",
       "      <td>2019-01-01 01:00:00</td>\n",
       "    </tr>\n",
       "    <tr>\n",
       "      <th>2</th>\n",
       "      <td>01.01.2019 02:00 - 01.01.2019 03:00</td>\n",
       "      <td>4.56</td>\n",
       "      <td>EUR</td>\n",
       "      <td>NaN</td>\n",
       "      <td>2019-01-01 02:00:00</td>\n",
       "    </tr>\n",
       "    <tr>\n",
       "      <th>3</th>\n",
       "      <td>01.01.2019 03:00 - 01.01.2019 04:00</td>\n",
       "      <td>4.83</td>\n",
       "      <td>EUR</td>\n",
       "      <td>NaN</td>\n",
       "      <td>2019-01-01 03:00:00</td>\n",
       "    </tr>\n",
       "    <tr>\n",
       "      <th>4</th>\n",
       "      <td>01.01.2019 04:00 - 01.01.2019 05:00</td>\n",
       "      <td>8.09</td>\n",
       "      <td>EUR</td>\n",
       "      <td>NaN</td>\n",
       "      <td>2019-01-01 04:00:00</td>\n",
       "    </tr>\n",
       "  </tbody>\n",
       "</table>\n",
       "</div>"
      ],
      "text/plain": [
       "                             MTU (UTC) Day-ahead Price [EUR/MWh] Currency  \\\n",
       "0  01.01.2019 00:00 - 01.01.2019 01:00                     10.07      EUR   \n",
       "1  01.01.2019 01:00 - 01.01.2019 02:00                     10.03      EUR   \n",
       "2  01.01.2019 02:00 - 01.01.2019 03:00                      4.56      EUR   \n",
       "3  01.01.2019 03:00 - 01.01.2019 04:00                      4.83      EUR   \n",
       "4  01.01.2019 04:00 - 01.01.2019 05:00                      8.09      EUR   \n",
       "\n",
       "   BZN|FI            datetime  \n",
       "0     NaN 2019-01-01 00:00:00  \n",
       "1     NaN 2019-01-01 01:00:00  \n",
       "2     NaN 2019-01-01 02:00:00  \n",
       "3     NaN 2019-01-01 03:00:00  \n",
       "4     NaN 2019-01-01 04:00:00  "
      ]
     },
     "metadata": {},
     "execution_count": 61
    }
   ],
   "metadata": {}
  },
  {
   "cell_type": "markdown",
   "source": [
    "## Wind Power Production"
   ],
   "metadata": {}
  },
  {
   "cell_type": "code",
   "execution_count": null,
   "source": [],
   "outputs": [],
   "metadata": {}
  },
  {
   "cell_type": "markdown",
   "source": [
    "## Weather"
   ],
   "metadata": {}
  },
  {
   "cell_type": "code",
   "execution_count": null,
   "source": [],
   "outputs": [],
   "metadata": {}
  },
  {
   "cell_type": "markdown",
   "source": [
    "## District Heating"
   ],
   "metadata": {}
  },
  {
   "cell_type": "code",
   "execution_count": null,
   "source": [],
   "outputs": [],
   "metadata": {}
  }
 ],
 "metadata": {
  "orig_nbformat": 4,
  "language_info": {
   "name": "python",
   "version": "3.10.6",
   "mimetype": "text/x-python",
   "codemirror_mode": {
    "name": "ipython",
    "version": 3
   },
   "pygments_lexer": "ipython3",
   "nbconvert_exporter": "python",
   "file_extension": ".py"
  },
  "kernelspec": {
   "name": "python3",
   "display_name": "Python 3.10.6 64-bit ('3.10.6': pyenv)"
  },
  "interpreter": {
   "hash": "e6230f2ee8ac0ecaa5952243d70fcaa9ef5fdc4d4044407a47ce5e277f9be4dd"
  }
 },
 "nbformat": 4,
 "nbformat_minor": 2
}