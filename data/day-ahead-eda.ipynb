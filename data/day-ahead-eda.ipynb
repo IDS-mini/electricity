{
 "cells": [
  {
   "cell_type": "markdown",
   "source": [
    "# Day-ahead Price Exploratory Data Analysis"
   ],
   "metadata": {}
  },
  {
   "cell_type": "markdown",
   "source": [
    "## Concatenating years 2019-2022"
   ],
   "metadata": {}
  },
  {
   "cell_type": "code",
   "execution_count": 9,
   "source": [
    "import pandas as pd\n",
    "import numpy as np \n",
    "import matplotlib as plt\n",
    "\n",
    "# concat year files to one dataframe\n",
    "dayahead = pd.DataFrame(pd.read_csv(\"day-ahead-prices/Day-ahead_Prices_201901010000-202001010000.csv\", header=0))\n",
    "dayahead = pd.concat([dayahead, pd.read_csv(\"day-ahead-prices/Day-ahead_Prices_202001010000-202101010000.csv\", header=0)])\n",
    "dayahead = pd.concat([dayahead, pd.read_csv(\"day-ahead-prices/Day-ahead_Prices_202101010000-202201010000.csv\", header=0)])\n",
    "dayahead = pd.concat([dayahead, pd.read_csv(\"day-ahead-prices/Day-ahead_Prices_202201010000-202301010000.csv\", header=0)])\n",
    "\n",
    "# create datetime value of every beginning hour\n",
    "dayahead['datetime'] = dayahead['MTU (UTC)'].str[0:16]\n",
    "dayahead['datetime'] = pd.to_datetime(dayahead['datetime'], format='%d.%m.%Y %H:%M')\n",
    "dayahead.set_index('datetime', inplace=True)\n",
    "np.shape(dayahead)\n"
   ],
   "outputs": [
    {
     "output_type": "error",
     "ename": "TypeError",
     "evalue": "Cannot interpret '                                               MTU (UTC)  \\\ndatetime                                                   \n2019-01-01 00:00:00  01.01.2019 00:00 - 01.01.2019 01:00   \n2019-01-01 01:00:00  01.01.2019 01:00 - 01.01.2019 02:00   \n2019-01-01 02:00:00  01.01.2019 02:00 - 01.01.2019 03:00   \n2019-01-01 03:00:00  01.01.2019 03:00 - 01.01.2019 04:00   \n2019-01-01 04:00:00  01.01.2019 04:00 - 01.01.2019 05:00   \n...                                                  ...   \n2022-12-31 19:00:00  31.12.2022 19:00 - 31.12.2022 20:00   \n2022-12-31 20:00:00  31.12.2022 20:00 - 31.12.2022 21:00   \n2022-12-31 21:00:00  31.12.2022 21:00 - 31.12.2022 22:00   \n2022-12-31 22:00:00  31.12.2022 22:00 - 31.12.2022 23:00   \n2022-12-31 23:00:00  31.12.2022 23:00 - 01.01.2023 00:00   \n\n                    Day-ahead Price [EUR/MWh] Currency  BZN|FI  \ndatetime                                                        \n2019-01-01 00:00:00                     10.07      EUR     NaN  \n2019-01-01 01:00:00                     10.03      EUR     NaN  \n2019-01-01 02:00:00                      4.56      EUR     NaN  \n2019-01-01 03:00:00                      4.83      EUR     NaN  \n2019-01-01 04:00:00                      8.09      EUR     NaN  \n...                                       ...      ...     ...  \n2022-12-31 19:00:00                         -      NaN     NaN  \n2022-12-31 20:00:00                         -      NaN     NaN  \n2022-12-31 21:00:00                         -      NaN     NaN  \n2022-12-31 22:00:00                         -      NaN     NaN  \n2022-12-31 23:00:00                         -      NaN     NaN  \n\n[35064 rows x 4 columns]' as a data type",
     "traceback": [
      "\u001b[0;31m---------------------------------------------------------------------------\u001b[0m",
      "\u001b[0;31mTypeError\u001b[0m                                 Traceback (most recent call last)",
      "Cell \u001b[0;32mIn [9], line 16\u001b[0m\n\u001b[1;32m     14\u001b[0m dayahead\u001b[38;5;241m.\u001b[39mset_index(\u001b[38;5;124m'\u001b[39m\u001b[38;5;124mdatetime\u001b[39m\u001b[38;5;124m'\u001b[39m, inplace\u001b[38;5;241m=\u001b[39m\u001b[38;5;28;01mTrue\u001b[39;00m)\n\u001b[1;32m     15\u001b[0m np\u001b[38;5;241m.\u001b[39mshape(dayahead)\n\u001b[0;32m---> 16\u001b[0m \u001b[43mnp\u001b[49m\u001b[38;5;241;43m.\u001b[39;49m\u001b[43mdtype\u001b[49m\u001b[43m(\u001b[49m\u001b[43mdayahead\u001b[49m\u001b[43m)\u001b[49m\n",
      "\u001b[0;31mTypeError\u001b[0m: Cannot interpret '                                               MTU (UTC)  \\\ndatetime                                                   \n2019-01-01 00:00:00  01.01.2019 00:00 - 01.01.2019 01:00   \n2019-01-01 01:00:00  01.01.2019 01:00 - 01.01.2019 02:00   \n2019-01-01 02:00:00  01.01.2019 02:00 - 01.01.2019 03:00   \n2019-01-01 03:00:00  01.01.2019 03:00 - 01.01.2019 04:00   \n2019-01-01 04:00:00  01.01.2019 04:00 - 01.01.2019 05:00   \n...                                                  ...   \n2022-12-31 19:00:00  31.12.2022 19:00 - 31.12.2022 20:00   \n2022-12-31 20:00:00  31.12.2022 20:00 - 31.12.2022 21:00   \n2022-12-31 21:00:00  31.12.2022 21:00 - 31.12.2022 22:00   \n2022-12-31 22:00:00  31.12.2022 22:00 - 31.12.2022 23:00   \n2022-12-31 23:00:00  31.12.2022 23:00 - 01.01.2023 00:00   \n\n                    Day-ahead Price [EUR/MWh] Currency  BZN|FI  \ndatetime                                                        \n2019-01-01 00:00:00                     10.07      EUR     NaN  \n2019-01-01 01:00:00                     10.03      EUR     NaN  \n2019-01-01 02:00:00                      4.56      EUR     NaN  \n2019-01-01 03:00:00                      4.83      EUR     NaN  \n2019-01-01 04:00:00                      8.09      EUR     NaN  \n...                                       ...      ...     ...  \n2022-12-31 19:00:00                         -      NaN     NaN  \n2022-12-31 20:00:00                         -      NaN     NaN  \n2022-12-31 21:00:00                         -      NaN     NaN  \n2022-12-31 22:00:00                         -      NaN     NaN  \n2022-12-31 23:00:00                         -      NaN     NaN  \n\n[35064 rows x 4 columns]' as a data type"
     ]
    }
   ],
   "metadata": {}
  },
  {
   "cell_type": "markdown",
   "source": [
    "## Look for data tail"
   ],
   "metadata": {}
  },
  {
   "cell_type": "code",
   "execution_count": 40,
   "source": [
    "print(dayahead.head())"
   ],
   "outputs": [
    {
     "output_type": "stream",
     "name": "stdout",
     "text": [
      "                                               MTU (UTC)  \\\n",
      "datetime                                                   \n",
      "2019-01-01 00:00:00  01.01.2019 00:00 - 01.01.2019 01:00   \n",
      "2019-01-01 01:00:00  01.01.2019 01:00 - 01.01.2019 02:00   \n",
      "2019-01-01 02:00:00  01.01.2019 02:00 - 01.01.2019 03:00   \n",
      "2019-01-01 03:00:00  01.01.2019 03:00 - 01.01.2019 04:00   \n",
      "2019-01-01 04:00:00  01.01.2019 04:00 - 01.01.2019 05:00   \n",
      "\n",
      "                    Day-ahead Price [EUR/MWh] Currency  BZN|FI  \n",
      "datetime                                                        \n",
      "2019-01-01 00:00:00                     10.07      EUR     NaN  \n",
      "2019-01-01 01:00:00                     10.03      EUR     NaN  \n",
      "2019-01-01 02:00:00                      4.56      EUR     NaN  \n",
      "2019-01-01 03:00:00                      4.83      EUR     NaN  \n",
      "2019-01-01 04:00:00                      8.09      EUR     NaN  \n"
     ]
    }
   ],
   "metadata": {}
  },
  {
   "cell_type": "markdown",
   "source": [
    "## Find last non-NaN value"
   ],
   "metadata": {}
  },
  {
   "cell_type": "code",
   "execution_count": 4,
   "source": [
    "print(dayahead.iloc[1500])\n",
    "print(dayahead.iloc[2000])\n",
    "print(dayahead.iloc[1970])"
   ],
   "outputs": [
    {
     "output_type": "stream",
     "name": "stdout",
     "text": [
      "MTU (UTC)                    04.03.2019 12:00 - 04.03.2019 13:00\n",
      "Day-ahead Price [EUR/MWh]                                  52.41\n",
      "Currency                                                     EUR\n",
      "BZN|FI                                                       NaN\n",
      "Name: 2019-03-04 12:00:00, dtype: object\n",
      "MTU (UTC)                    25.03.2019 08:00 - 25.03.2019 09:00\n",
      "Day-ahead Price [EUR/MWh]                                   41.9\n",
      "Currency                                                     EUR\n",
      "BZN|FI                                                       NaN\n",
      "Name: 2019-03-25 08:00:00, dtype: object\n",
      "MTU (UTC)                    24.03.2019 02:00 - 24.03.2019 03:00\n",
      "Day-ahead Price [EUR/MWh]                                   32.2\n",
      "Currency                                                     EUR\n",
      "BZN|FI                                                       NaN\n",
      "Name: 2019-03-24 02:00:00, dtype: object\n"
     ]
    }
   ],
   "metadata": {}
  },
  {
   "cell_type": "markdown",
   "source": [
    "## Export joined day-ahead data as parquet file\n",
    "\n",
    "Change price column name to be more simple and datatype to float"
   ],
   "metadata": {}
  },
  {
   "cell_type": "code",
   "execution_count": 20,
   "source": [
    "import pyarrow as pa\n",
    "\n",
    "dayahead.rename(columns = {'Day-ahead Price [EUR/MWh]':'price'}, inplace = True)\n",
    "dayahead['price'] = dayahead['price'].replace('-', np.nan).astype(float)\n",
    "print(np.dtype(dayahead['price']))\n",
    "\n",
    "table = pa.Table.from_pandas(dayahead)\n",
    "pa.parquet.write_table(table, 'processed_data/dayahead.parquet')\n"
   ],
   "outputs": [
    {
     "output_type": "stream",
     "name": "stdout",
     "text": [
      "float64\n"
     ]
    }
   ],
   "metadata": {}
  }
 ],
 "metadata": {
  "orig_nbformat": 4,
  "language_info": {
   "name": "python",
   "version": "3.10.6",
   "mimetype": "text/x-python",
   "codemirror_mode": {
    "name": "ipython",
    "version": 3
   },
   "pygments_lexer": "ipython3",
   "nbconvert_exporter": "python",
   "file_extension": ".py"
  },
  "kernelspec": {
   "name": "python3",
   "display_name": "Python 3.10.6 64-bit ('3.10.6': pyenv)"
  },
  "interpreter": {
   "hash": "e6230f2ee8ac0ecaa5952243d70fcaa9ef5fdc4d4044407a47ce5e277f9be4dd"
  }
 },
 "nbformat": 4,
 "nbformat_minor": 2
}