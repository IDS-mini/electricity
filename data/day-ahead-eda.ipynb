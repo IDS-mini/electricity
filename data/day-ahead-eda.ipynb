{
 "cells": [
  {
   "cell_type": "markdown",
   "source": [
    "# Day-ahead Price Exploratory Data Analysis"
   ],
   "metadata": {}
  },
  {
   "cell_type": "markdown",
   "source": [
    "## Concatenating years 2019-2022"
   ],
   "metadata": {}
  },
  {
   "cell_type": "code",
   "execution_count": 41,
   "source": [
    "import pandas as pd\n",
    "import numpy as np \n",
    "import matplotlib as plt\n",
    "\n",
    "# concat year files to one dataframe\n",
    "dayahead = pd.DataFrame(pd.read_csv(\"day-ahead-prices/Day-ahead_Prices_201901010000-202001010000.csv\", header=0))\n",
    "dayahead = pd.concat([dayahead, pd.read_csv(\"day-ahead-prices/Day-ahead_Prices_202001010000-202101010000.csv\", header=0)])\n",
    "dayahead = pd.concat([dayahead, pd.read_csv(\"day-ahead-prices/Day-ahead_Prices_202101010000-202201010000.csv\", header=0)])\n",
    "dayahead = pd.concat([dayahead, pd.read_csv(\"day-ahead-prices/Day-ahead_Prices_202201010000-202301010000.csv\", header=0)])\n",
    "\n",
    "# create datetime value of every beginning hour\n",
    "dayahead['datetime'] = dayahead['MTU (UTC)'].str[0:16]\n",
    "dayahead['datetime'] = pd.to_datetime(dayahead['datetime'], format='%d.%m.%Y %H:%M')\n",
    "dayahead.set_index('datetime', inplace=True)\n",
    "\n",
    "#do some cleanup\n",
    "dayahead.rename(columns = {'Day-ahead Price [EUR/MWh]':'price'}, inplace = True)\n",
    "dayahead.drop(columns={'BZN|FI', 'MTU (UTC)', 'Currency'}, inplace=True)\n",
    "dayahead['price'] = dayahead['price'].replace('-', np.nan).astype(float)\n",
    "np.shape(dayahead)\n"
   ],
   "outputs": [
    {
     "output_type": "execute_result",
     "data": {
      "text/plain": [
       "(35064, 1)"
      ]
     },
     "metadata": {},
     "execution_count": 41
    }
   ],
   "metadata": {}
  },
  {
   "cell_type": "markdown",
   "source": [
    "## Look for data tail"
   ],
   "metadata": {}
  },
  {
   "cell_type": "code",
   "execution_count": 58,
   "source": [
    "print(dayahead.head())\n",
    "print(dayahead.tail())"
   ],
   "outputs": [
    {
     "output_type": "stream",
     "name": "stdout",
     "text": [
      "                     price\n",
      "datetime                  \n",
      "2019-01-01 00:00:00  10.07\n",
      "2019-01-01 01:00:00  10.03\n",
      "2019-01-01 02:00:00   4.56\n",
      "2019-01-01 03:00:00   4.83\n",
      "2019-01-01 04:00:00   8.09\n",
      "                     price\n",
      "datetime                  \n",
      "2022-12-31 19:00:00    NaN\n",
      "2022-12-31 20:00:00    NaN\n",
      "2022-12-31 21:00:00    NaN\n",
      "2022-12-31 22:00:00    NaN\n",
      "2022-12-31 23:00:00    NaN\n"
     ]
    }
   ],
   "metadata": {}
  },
  {
   "cell_type": "markdown",
   "source": [
    "## Find last non-NaN value"
   ],
   "metadata": {}
  },
  {
   "cell_type": "code",
   "execution_count": 59,
   "source": [
    "print(dayahead.iloc[1500])\n",
    "print(dayahead.iloc[2000])\n",
    "print(dayahead.iloc[1970])"
   ],
   "outputs": [
    {
     "output_type": "stream",
     "name": "stdout",
     "text": [
      "price    52.41\n",
      "Name: 2019-03-04 12:00:00, dtype: float64\n",
      "price    41.9\n",
      "Name: 2019-03-25 08:00:00, dtype: float64\n",
      "price    32.2\n",
      "Name: 2019-03-24 02:00:00, dtype: float64\n"
     ]
    }
   ],
   "metadata": {}
  },
  {
   "cell_type": "markdown",
   "source": [
    "## Count missing values"
   ],
   "metadata": {}
  },
  {
   "cell_type": "code",
   "execution_count": 64,
   "source": [
    "missing_sum = dayahead[dayahead.index < '2022-10-06'].isna().sum()\n",
    "print(missing_sum / dayahead[dayahead.index < '2022-10-06'].count())"
   ],
   "outputs": [
    {
     "output_type": "stream",
     "name": "stdout",
     "text": [
      "price    0.003713\n",
      "dtype: float64\n"
     ]
    }
   ],
   "metadata": {}
  },
  {
   "cell_type": "markdown",
   "source": [
    "## Impute missing\n",
    "\n",
    "Since missing values are quite few (less than 0.4 %), they can be imputed with values next to then (which quite clearly is smarter than imputing them with mean values)."
   ],
   "metadata": {}
  },
  {
   "cell_type": "code",
   "execution_count": 67,
   "source": [
    "dayahead.fillna(method='ffill', inplace=True)\n",
    "print(dayahead[dayahead.index < '2022-10-06'].isna().sum())"
   ],
   "outputs": [
    {
     "output_type": "stream",
     "name": "stdout",
     "text": [
      "price    0\n",
      "dtype: int64\n"
     ]
    }
   ],
   "metadata": {}
  },
  {
   "cell_type": "markdown",
   "source": [
    "## Export joined day-ahead data as parquet file\n",
    "\n",
    "Change price column name to be more simple and datatype to float"
   ],
   "metadata": {}
  },
  {
   "cell_type": "code",
   "execution_count": 68,
   "source": [
    "import pyarrow as pa\n",
    "\n",
    "print(np.dtype(dayahead['price']))\n",
    "\n",
    "table = pa.Table.from_pandas(dayahead)\n",
    "pa.parquet.write_table(table, 'processed_data/dayahead.parquet')\n"
   ],
   "outputs": [
    {
     "output_type": "stream",
     "name": "stdout",
     "text": [
      "float64\n"
     ]
    }
   ],
   "metadata": {}
  }
 ],
 "metadata": {
  "orig_nbformat": 4,
  "language_info": {
   "name": "python",
   "version": "3.10.6",
   "mimetype": "text/x-python",
   "codemirror_mode": {
    "name": "ipython",
    "version": 3
   },
   "pygments_lexer": "ipython3",
   "nbconvert_exporter": "python",
   "file_extension": ".py"
  },
  "kernelspec": {
   "name": "python3",
   "display_name": "Python 3.10.6 64-bit ('3.10.6': pyenv)"
  },
  "interpreter": {
   "hash": "e6230f2ee8ac0ecaa5952243d70fcaa9ef5fdc4d4044407a47ce5e277f9be4dd"
  }
 },
 "nbformat": 4,
 "nbformat_minor": 2
}