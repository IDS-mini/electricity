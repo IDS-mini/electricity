{
 "cells": [
  {
   "cell_type": "markdown",
   "source": [
    "# Day-ahead Price Exploratory Data Analysis"
   ],
   "metadata": {}
  },
  {
   "cell_type": "markdown",
   "source": [
    "## Concatenating years 2019-2022"
   ],
   "metadata": {}
  },
  {
   "cell_type": "code",
   "execution_count": 39,
   "source": [
    "import pandas as pd\n",
    "import numpy as np \n",
    "import matplotlib as plt\n",
    "\n",
    "# concat year files to one dataframe\n",
    "dayahead = pd.DataFrame(pd.read_csv(\"day-ahead-prices/Day-ahead_Prices_201901010000-202001010000.csv\", header=0))\n",
    "dayahead = pd.concat([dayahead, pd.read_csv(\"day-ahead-prices/Day-ahead_Prices_202001010000-202101010000.csv\", header=0)])\n",
    "dayahead = pd.concat([dayahead, pd.read_csv(\"day-ahead-prices/Day-ahead_Prices_202101010000-202201010000.csv\", header=0)])\n",
    "dayahead = pd.concat([dayahead, pd.read_csv(\"day-ahead-prices/Day-ahead_Prices_202201010000-202301010000.csv\", header=0)])\n",
    "\n",
    "# create datetime value of every beginning hour\n",
    "dayahead['datetime'] = dayahead['MTU (UTC)'].str[0:16]\n",
    "dayahead['datetime'] = pd.to_datetime(dayahead['datetime'], format='%d.%m.%Y %H:%M')\n",
    "dayahead.set_index('datetime', inplace=True)\n",
    "np.shape(dayahead)\n"
   ],
   "outputs": [
    {
     "output_type": "execute_result",
     "data": {
      "text/plain": [
       "(35064, 4)"
      ]
     },
     "metadata": {},
     "execution_count": 39
    }
   ],
   "metadata": {}
  },
  {
   "cell_type": "markdown",
   "source": [
    "## Look for data tail"
   ],
   "metadata": {}
  },
  {
   "cell_type": "code",
   "execution_count": 40,
   "source": [
    "print(dayahead.head())"
   ],
   "outputs": [
    {
     "output_type": "stream",
     "name": "stdout",
     "text": [
      "                                               MTU (UTC)  \\\n",
      "datetime                                                   \n",
      "2019-01-01 00:00:00  01.01.2019 00:00 - 01.01.2019 01:00   \n",
      "2019-01-01 01:00:00  01.01.2019 01:00 - 01.01.2019 02:00   \n",
      "2019-01-01 02:00:00  01.01.2019 02:00 - 01.01.2019 03:00   \n",
      "2019-01-01 03:00:00  01.01.2019 03:00 - 01.01.2019 04:00   \n",
      "2019-01-01 04:00:00  01.01.2019 04:00 - 01.01.2019 05:00   \n",
      "\n",
      "                    Day-ahead Price [EUR/MWh] Currency  BZN|FI  \n",
      "datetime                                                        \n",
      "2019-01-01 00:00:00                     10.07      EUR     NaN  \n",
      "2019-01-01 01:00:00                     10.03      EUR     NaN  \n",
      "2019-01-01 02:00:00                      4.56      EUR     NaN  \n",
      "2019-01-01 03:00:00                      4.83      EUR     NaN  \n",
      "2019-01-01 04:00:00                      8.09      EUR     NaN  \n"
     ]
    }
   ],
   "metadata": {}
  },
  {
   "cell_type": "markdown",
   "source": [
    "## Find last non-NaN value"
   ],
   "metadata": {}
  },
  {
   "cell_type": "code",
   "execution_count": 41,
   "source": [
    "print(dayahead.iloc[1500])\n",
    "print(dayahead.iloc[2000])\n",
    "print(dayahead.iloc[1970])\n"
   ],
   "outputs": [
    {
     "output_type": "stream",
     "name": "stdout",
     "text": [
      "MTU (UTC)                    04.03.2019 12:00 - 04.03.2019 13:00\n",
      "Day-ahead Price [EUR/MWh]                                  52.41\n",
      "Currency                                                     EUR\n",
      "BZN|FI                                                       NaN\n",
      "Name: 2019-03-04 12:00:00, dtype: object\n",
      "MTU (UTC)                    25.03.2019 08:00 - 25.03.2019 09:00\n",
      "Day-ahead Price [EUR/MWh]                                   41.9\n",
      "Currency                                                     EUR\n",
      "BZN|FI                                                       NaN\n",
      "Name: 2019-03-25 08:00:00, dtype: object\n",
      "MTU (UTC)                    24.03.2019 02:00 - 24.03.2019 03:00\n",
      "Day-ahead Price [EUR/MWh]                                   32.2\n",
      "Currency                                                     EUR\n",
      "BZN|FI                                                       NaN\n",
      "Name: 2019-03-24 02:00:00, dtype: object\n"
     ]
    }
   ],
   "metadata": {}
  }
 ],
 "metadata": {
  "orig_nbformat": 4,
  "language_info": {
   "name": "python",
   "version": "3.10.6",
   "mimetype": "text/x-python",
   "codemirror_mode": {
    "name": "ipython",
    "version": 3
   },
   "pygments_lexer": "ipython3",
   "nbconvert_exporter": "python",
   "file_extension": ".py"
  },
  "kernelspec": {
   "name": "python3",
   "display_name": "Python 3.10.6 64-bit ('3.10.6': pyenv)"
  },
  "interpreter": {
   "hash": "e6230f2ee8ac0ecaa5952243d70fcaa9ef5fdc4d4044407a47ce5e277f9be4dd"
  }
 },
 "nbformat": 4,
 "nbformat_minor": 2
}