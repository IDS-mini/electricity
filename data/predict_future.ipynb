{
 "cells": [
  {
   "cell_type": "code",
   "execution_count": 39,
   "metadata": {},
   "outputs": [],
   "source": [
    "import pandas as pd\n",
    "import numpy as np\n",
    "from xgboost import XGBRegressor\n",
    "from datetime import timedelta\n",
    "import matplotlib.pyplot as plt\n",
    "import seaborn as sns\n",
    "color_pal = sns.color_palette()\n",
    "plt.style.use('fivethirtyeight')"
   ]
  },
  {
   "cell_type": "markdown",
   "metadata": {},
   "source": [
    "### Load model and data for future"
   ]
  },
  {
   "cell_type": "code",
   "execution_count": 40,
   "metadata": {},
   "outputs": [
    {
     "data": {
      "text/html": [
       "<div>\n",
       "<style scoped>\n",
       "    .dataframe tbody tr th:only-of-type {\n",
       "        vertical-align: middle;\n",
       "    }\n",
       "\n",
       "    .dataframe tbody tr th {\n",
       "        vertical-align: top;\n",
       "    }\n",
       "\n",
       "    .dataframe thead th {\n",
       "        text-align: right;\n",
       "    }\n",
       "</style>\n",
       "<table border=\"1\" class=\"dataframe\">\n",
       "  <thead>\n",
       "    <tr style=\"text-align: right;\">\n",
       "      <th></th>\n",
       "      <th>Wind_MWh</th>\n",
       "      <th>w_lag1</th>\n",
       "      <th>w_lag2</th>\n",
       "      <th>w_lag3</th>\n",
       "      <th>Consumption_MWh</th>\n",
       "      <th>c_lag1</th>\n",
       "      <th>c_lag2</th>\n",
       "      <th>c_lag3</th>\n",
       "    </tr>\n",
       "  </thead>\n",
       "  <tbody>\n",
       "    <tr>\n",
       "      <th>2022-12-31 20:00:00+00:00</th>\n",
       "      <td>1641.641724</td>\n",
       "      <td>878.0</td>\n",
       "      <td>561.0</td>\n",
       "      <td>NaN</td>\n",
       "      <td>11641.276367</td>\n",
       "      <td>11561.0</td>\n",
       "      <td>10490.0</td>\n",
       "      <td>NaN</td>\n",
       "    </tr>\n",
       "    <tr>\n",
       "      <th>2022-12-31 21:00:00+00:00</th>\n",
       "      <td>1566.043701</td>\n",
       "      <td>703.0</td>\n",
       "      <td>583.0</td>\n",
       "      <td>NaN</td>\n",
       "      <td>11217.675781</td>\n",
       "      <td>11497.0</td>\n",
       "      <td>10318.0</td>\n",
       "      <td>NaN</td>\n",
       "    </tr>\n",
       "    <tr>\n",
       "      <th>2022-12-31 22:00:00+00:00</th>\n",
       "      <td>951.898865</td>\n",
       "      <td>512.0</td>\n",
       "      <td>572.0</td>\n",
       "      <td>1597.0</td>\n",
       "      <td>10164.972656</td>\n",
       "      <td>11075.0</td>\n",
       "      <td>9914.0</td>\n",
       "      <td>9950.0</td>\n",
       "    </tr>\n",
       "    <tr>\n",
       "      <th>2022-12-31 23:00:00+00:00</th>\n",
       "      <td>1354.330811</td>\n",
       "      <td>463.0</td>\n",
       "      <td>538.0</td>\n",
       "      <td>1514.0</td>\n",
       "      <td>10246.028320</td>\n",
       "      <td>10724.0</td>\n",
       "      <td>9535.0</td>\n",
       "      <td>9610.0</td>\n",
       "    </tr>\n",
       "    <tr>\n",
       "      <th>2023-01-01 00:00:00+00:00</th>\n",
       "      <td>1078.862183</td>\n",
       "      <td>601.0</td>\n",
       "      <td>547.0</td>\n",
       "      <td>1386.0</td>\n",
       "      <td>9447.356445</td>\n",
       "      <td>10473.0</td>\n",
       "      <td>9296.0</td>\n",
       "      <td>9408.0</td>\n",
       "    </tr>\n",
       "  </tbody>\n",
       "</table>\n",
       "</div>"
      ],
      "text/plain": [
       "                              Wind_MWh  w_lag1  w_lag2  w_lag3  \\\n",
       "2022-12-31 20:00:00+00:00  1641.641724   878.0   561.0     NaN   \n",
       "2022-12-31 21:00:00+00:00  1566.043701   703.0   583.0     NaN   \n",
       "2022-12-31 22:00:00+00:00   951.898865   512.0   572.0  1597.0   \n",
       "2022-12-31 23:00:00+00:00  1354.330811   463.0   538.0  1514.0   \n",
       "2023-01-01 00:00:00+00:00  1078.862183   601.0   547.0  1386.0   \n",
       "\n",
       "                           Consumption_MWh   c_lag1   c_lag2  c_lag3  \n",
       "2022-12-31 20:00:00+00:00     11641.276367  11561.0  10490.0     NaN  \n",
       "2022-12-31 21:00:00+00:00     11217.675781  11497.0  10318.0     NaN  \n",
       "2022-12-31 22:00:00+00:00     10164.972656  11075.0   9914.0  9950.0  \n",
       "2022-12-31 23:00:00+00:00     10246.028320  10724.0   9535.0  9610.0  \n",
       "2023-01-01 00:00:00+00:00      9447.356445  10473.0   9296.0  9408.0  "
      ]
     },
     "execution_count": 40,
     "metadata": {},
     "output_type": "execute_result"
    }
   ],
   "source": [
    "model = XGBRegressor()\n",
    "model.load_model('../models/xgboost_model.ubj')\n",
    "\n",
    "wind = pd.read_parquet('../future_data/wind.parquet')\n",
    "consumption = pd.read_parquet('../future_data/consumption.parquet')\n",
    "\n",
    "df = wind.join(consumption).tz_localize(tz='UTC')\n",
    "df.tail()\n"
   ]
  },
  {
   "cell_type": "markdown",
   "metadata": {},
   "source": [
    "#### Helper function to add time series features"
   ]
  },
  {
   "cell_type": "code",
   "execution_count": 41,
   "metadata": {},
   "outputs": [],
   "source": [
    "def create_features(df):\n",
    "    \"\"\"\n",
    "    Create time series features based on time series index.\n",
    "    \"\"\"\n",
    "    df = df.copy()\n",
    "    df['hour'] = df.index.hour\n",
    "    df['dayofweek'] = df.index.dayofweek\n",
    "    df['quarter'] = df.index.quarter\n",
    "    df['month'] = df.index.month\n",
    "    df['year'] = df.index.year\n",
    "    df['dayofyear'] = df.index.dayofyear\n",
    "    df['dayofmonth'] = df.index.day\n",
    "    df['weekofyear'] = df.index.isocalendar().week\n",
    "    return df"
   ]
  },
  {
   "cell_type": "code",
   "execution_count": 42,
   "metadata": {},
   "outputs": [],
   "source": [
    "def get_recommendation(x):\n",
    "    if x > 1.3:\n",
    "        return '-'\n",
    "    elif x < -0.7:\n",
    "        return '+'\n",
    "    else:\n",
    "        return '0'"
   ]
  },
  {
   "cell_type": "markdown",
   "metadata": {},
   "source": [
    "### Predict the future!"
   ]
  },
  {
   "cell_type": "code",
   "execution_count": 43,
   "metadata": {},
   "outputs": [],
   "source": [
    "NUMBER_OF_DAYS_TO_PREDICT = 30\n",
    "SMA_WINDOW = 168 # Window size for simple moving average"
   ]
  },
  {
   "cell_type": "code",
   "execution_count": 44,
   "metadata": {},
   "outputs": [],
   "source": [
    "now_ceil = pd.Timestamp.now(tz='UTC').ceil(freq='H')\n",
    "date_range = pd.date_range(\n",
    "        start=now_ceil-timedelta(hours=SMA_WINDOW), end=now_ceil+timedelta(days=NUMBER_OF_DAYS_TO_PREDICT), freq=\"H\")\n",
    "future_df = pd.DataFrame({'datetime': date_range}).set_index('datetime')\n",
    "future_df = future_df.join(df)\n",
    "future_df = create_features(future_df)\n"
   ]
  },
  {
   "cell_type": "code",
   "execution_count": 45,
   "metadata": {},
   "outputs": [],
   "source": [
    "features = ['Wind_MWh','Consumption_MWh','dayofyear', 'hour', 'dayofweek', 'quarter', 'month', 'year',\n",
    "            'c_lag1','c_lag2','c_lag3','w_lag1','w_lag2','w_lag3'] # These should be the same as used in modelling!!!\n",
    "future_df['price'] = model.predict(future_df[features])"
   ]
  },
  {
   "cell_type": "markdown",
   "metadata": {},
   "source": [
    "# Plot the price for the future!"
   ]
  },
  {
   "cell_type": "code",
   "execution_count": 46,
   "metadata": {},
   "outputs": [
    {
     "data": {
      "image/png": "[encoded data removed]",
      "text/plain": [
       "<Figure size 720x360 with 1 Axes>"
      ]
     },
     "metadata": {},
     "output_type": "display_data"
    }
   ],
   "source": [
    "future_df['price'].plot(figsize=(10, 5),\n",
    "                               color=color_pal[4],\n",
    "                               ms=1,\n",
    "                               lw=1,\n",
    "                               title='Predicted Price')\n",
    "plt.show()"
   ]
  },
  {
   "cell_type": "markdown",
   "metadata": {},
   "source": [
    "### Calculate SMA and price index"
   ]
  },
  {
   "cell_type": "code",
   "execution_count": 47,
   "metadata": {},
   "outputs": [
    {
     "data": {
      "text/html": [
       "<div>\n",
       "<style scoped>\n",
       "    .dataframe tbody tr th:only-of-type {\n",
       "        vertical-align: middle;\n",
       "    }\n",
       "\n",
       "    .dataframe tbody tr th {\n",
       "        vertical-align: top;\n",
       "    }\n",
       "\n",
       "    .dataframe thead th {\n",
       "        text-align: right;\n",
       "    }\n",
       "</style>\n",
       "<table border=\"1\" class=\"dataframe\">\n",
       "  <thead>\n",
       "    <tr style=\"text-align: right;\">\n",
       "      <th></th>\n",
       "      <th>datetime</th>\n",
       "      <th>value</th>\n",
       "      <th>recommendation</th>\n",
       "    </tr>\n",
       "  </thead>\n",
       "  <tbody>\n",
       "    <tr>\n",
       "      <th>0</th>\n",
       "      <td>2022-10-15 17:00:00+00:00</td>\n",
       "      <td>1.282263</td>\n",
       "      <td>0</td>\n",
       "    </tr>\n",
       "    <tr>\n",
       "      <th>1</th>\n",
       "      <td>2022-10-15 18:00:00+00:00</td>\n",
       "      <td>1.301138</td>\n",
       "      <td>-</td>\n",
       "    </tr>\n",
       "    <tr>\n",
       "      <th>2</th>\n",
       "      <td>2022-10-15 19:00:00+00:00</td>\n",
       "      <td>1.305223</td>\n",
       "      <td>-</td>\n",
       "    </tr>\n",
       "    <tr>\n",
       "      <th>3</th>\n",
       "      <td>2022-10-15 20:00:00+00:00</td>\n",
       "      <td>0.221053</td>\n",
       "      <td>0</td>\n",
       "    </tr>\n",
       "    <tr>\n",
       "      <th>4</th>\n",
       "      <td>2022-10-15 21:00:00+00:00</td>\n",
       "      <td>0.738744</td>\n",
       "      <td>0</td>\n",
       "    </tr>\n",
       "    <tr>\n",
       "      <th>...</th>\n",
       "      <td>...</td>\n",
       "      <td>...</td>\n",
       "      <td>...</td>\n",
       "    </tr>\n",
       "    <tr>\n",
       "      <th>548</th>\n",
       "      <td>2022-11-07 13:00:00+00:00</td>\n",
       "      <td>1.677884</td>\n",
       "      <td>-</td>\n",
       "    </tr>\n",
       "    <tr>\n",
       "      <th>549</th>\n",
       "      <td>2022-11-07 14:00:00+00:00</td>\n",
       "      <td>1.836063</td>\n",
       "      <td>-</td>\n",
       "    </tr>\n",
       "    <tr>\n",
       "      <th>550</th>\n",
       "      <td>2022-11-07 15:00:00+00:00</td>\n",
       "      <td>1.921821</td>\n",
       "      <td>-</td>\n",
       "    </tr>\n",
       "    <tr>\n",
       "      <th>551</th>\n",
       "      <td>2022-11-07 16:00:00+00:00</td>\n",
       "      <td>2.239847</td>\n",
       "      <td>-</td>\n",
       "    </tr>\n",
       "    <tr>\n",
       "      <th>552</th>\n",
       "      <td>2022-11-07 17:00:00+00:00</td>\n",
       "      <td>2.058053</td>\n",
       "      <td>-</td>\n",
       "    </tr>\n",
       "  </tbody>\n",
       "</table>\n",
       "<p>553 rows × 3 columns</p>\n",
       "</div>"
      ],
      "text/plain": [
       "                     datetime     value recommendation\n",
       "0   2022-10-15 17:00:00+00:00  1.282263              0\n",
       "1   2022-10-15 18:00:00+00:00  1.301138              -\n",
       "2   2022-10-15 19:00:00+00:00  1.305223              -\n",
       "3   2022-10-15 20:00:00+00:00  0.221053              0\n",
       "4   2022-10-15 21:00:00+00:00  0.738744              0\n",
       "..                        ...       ...            ...\n",
       "548 2022-11-07 13:00:00+00:00  1.677884              -\n",
       "549 2022-11-07 14:00:00+00:00  1.836063              -\n",
       "550 2022-11-07 15:00:00+00:00  1.921821              -\n",
       "551 2022-11-07 16:00:00+00:00  2.239847              -\n",
       "552 2022-11-07 17:00:00+00:00  2.058053              -\n",
       "\n",
       "[553 rows x 3 columns]"
      ]
     },
     "execution_count": 47,
     "metadata": {},
     "output_type": "execute_result"
    }
   ],
   "source": [
    "future_df['SMA'] = future_df['price'].rolling(SMA_WINDOW).mean()\n",
    "future_df['value'] = future_df['price'] / future_df['SMA']\n",
    "future_df['recommendation'] = future_df['value'].apply(\n",
    "    get_recommendation)\n",
    "RETURNED_FEATURES = ['value', 'recommendation']\n",
    "future_df = future_df[now_ceil+timedelta(hours=SMA_WINDOW):][RETURNED_FEATURES].reset_index()\n",
    "future_df"
   ]
  }
 ],
 "metadata": {
  "kernelspec": {
   "display_name": "Python 3.10.0 64-bit",
   "language": "python",
   "name": "python3"
  },
  "language_info": {
   "codemirror_mode": {
    "name": "ipython",
    "version": 3
   },
   "file_extension": ".py",
   "mimetype": "text/x-python",
   "name": "python",
   "nbconvert_exporter": "python",
   "pygments_lexer": "ipython3",
   "version": "3.10.0"
  },
  "orig_nbformat": 4,
  "vscode": {
   "interpreter": {
    "hash": "aee8b7b246df8f9039afb4144a1f6fd8d2ca17a180786b69acc140d282b71a49"
   }
  }
 },
 "nbformat": 4,
 "nbformat_minor": 2
}
