{
 "cells": [
  {
   "cell_type": "markdown",
   "metadata": {},
   "source": [
    "# Exploratory Data Analysis"
   ]
  },
  {
   "cell_type": "markdown",
   "metadata": {},
   "source": [
    "## Weather"
   ]
  },
  {
   "cell_type": "markdown",
   "metadata": {},
   "source": [
    "The weather data has not datetime as the other data sets, so it will be created first from the year/month/day/time columns. Then specifying datetime sa index."
   ]
  },
  {
   "cell_type": "code",
   "execution_count": 1,
   "metadata": {},
   "outputs": [
    {
     "name": "stderr",
     "output_type": "stream",
     "text": [
      "/home/sakorpi/.conda/envs/conda-ml/lib/python3.9/site-packages/xgboost/compat.py:36: FutureWarning: pandas.Int64Index is deprecated and will be removed from pandas in a future version. Use pandas.Index with the appropriate dtype instead.\n",
      "  from pandas import MultiIndex, Int64Index\n"
     ]
    }
   ],
   "source": [
    "import pandas as pd\n",
    "import numpy as np\n",
    "import matplotlib.pyplot as plt\n",
    "import seaborn as sns\n",
    "import xgboost as xgb\n",
    "from sklearn.metrics import mean_squared_error\n",
    "\n",
    "weather = pd.read_csv('weather_kumpula_012019-092022.csv')\n",
    "weather = weather.rename(columns={'Vuosi': 'year', 'Kk':'month', 'Pv': 'day', 'Klo':'time'})\n",
    "weather['hour'] = weather['time'].apply(lambda time: int(time[0:2]))\n",
    "weather['datetime'] = pd.to_datetime(weather[['year','month','day','hour']])\n",
    "weather = weather.set_index('datetime')"
   ]
  },
  {
   "cell_type": "code",
   "execution_count": 2,
   "metadata": {},
   "outputs": [
    {
     "data": {
      "text/html": [
       "<div>\n",
       "<style scoped>\n",
       "    .dataframe tbody tr th:only-of-type {\n",
       "        vertical-align: middle;\n",
       "    }\n",
       "\n",
       "    .dataframe tbody tr th {\n",
       "        vertical-align: top;\n",
       "    }\n",
       "\n",
       "    .dataframe thead th {\n",
       "        text-align: right;\n",
       "    }\n",
       "</style>\n",
       "<table border=\"1\" class=\"dataframe\">\n",
       "  <thead>\n",
       "    <tr style=\"text-align: right;\">\n",
       "      <th></th>\n",
       "      <th>year</th>\n",
       "      <th>month</th>\n",
       "      <th>day</th>\n",
       "      <th>time</th>\n",
       "      <th>Aikavyöhyke</th>\n",
       "      <th>Pilvien määrä (1/8)</th>\n",
       "      <th>Ilmanpaine (msl) (hPa)</th>\n",
       "      <th>Sademäärä (mm)</th>\n",
       "      <th>Suhteellinen kosteus (%)</th>\n",
       "      <th>Sateen intensiteetti (mm/h)</th>\n",
       "      <th>Ilman lämpötila (degC)</th>\n",
       "      <th>Tuulen nopeus (m/s)</th>\n",
       "      <th>hour</th>\n",
       "    </tr>\n",
       "    <tr>\n",
       "      <th>datetime</th>\n",
       "      <th></th>\n",
       "      <th></th>\n",
       "      <th></th>\n",
       "      <th></th>\n",
       "      <th></th>\n",
       "      <th></th>\n",
       "      <th></th>\n",
       "      <th></th>\n",
       "      <th></th>\n",
       "      <th></th>\n",
       "      <th></th>\n",
       "      <th></th>\n",
       "      <th></th>\n",
       "    </tr>\n",
       "  </thead>\n",
       "  <tbody>\n",
       "    <tr>\n",
       "      <th>2022-09-15 20:00:00</th>\n",
       "      <td>2022</td>\n",
       "      <td>9</td>\n",
       "      <td>15</td>\n",
       "      <td>20:00</td>\n",
       "      <td>UTC</td>\n",
       "      <td>7</td>\n",
       "      <td>987.4</td>\n",
       "      <td>2.5</td>\n",
       "      <td>98</td>\n",
       "      <td>0.4</td>\n",
       "      <td>10.4</td>\n",
       "      <td>1.8</td>\n",
       "      <td>20</td>\n",
       "    </tr>\n",
       "    <tr>\n",
       "      <th>2022-09-15 21:00:00</th>\n",
       "      <td>2022</td>\n",
       "      <td>9</td>\n",
       "      <td>15</td>\n",
       "      <td>21:00</td>\n",
       "      <td>UTC</td>\n",
       "      <td>7</td>\n",
       "      <td>987.2</td>\n",
       "      <td>2.7</td>\n",
       "      <td>100</td>\n",
       "      <td>0</td>\n",
       "      <td>11.4</td>\n",
       "      <td>3.9</td>\n",
       "      <td>21</td>\n",
       "    </tr>\n",
       "    <tr>\n",
       "      <th>2022-09-15 22:00:00</th>\n",
       "      <td>2022</td>\n",
       "      <td>9</td>\n",
       "      <td>15</td>\n",
       "      <td>22:00</td>\n",
       "      <td>UTC</td>\n",
       "      <td>7</td>\n",
       "      <td>986.9</td>\n",
       "      <td>0</td>\n",
       "      <td>99</td>\n",
       "      <td>0</td>\n",
       "      <td>10.4</td>\n",
       "      <td>1.2</td>\n",
       "      <td>22</td>\n",
       "    </tr>\n",
       "    <tr>\n",
       "      <th>2022-09-15 23:00:00</th>\n",
       "      <td>2022</td>\n",
       "      <td>9</td>\n",
       "      <td>15</td>\n",
       "      <td>23:00</td>\n",
       "      <td>UTC</td>\n",
       "      <td>8</td>\n",
       "      <td>987</td>\n",
       "      <td>0</td>\n",
       "      <td>100</td>\n",
       "      <td>0</td>\n",
       "      <td>10.3</td>\n",
       "      <td>1.4</td>\n",
       "      <td>23</td>\n",
       "    </tr>\n",
       "    <tr>\n",
       "      <th>2022-09-16 00:00:00</th>\n",
       "      <td>2022</td>\n",
       "      <td>9</td>\n",
       "      <td>16</td>\n",
       "      <td>00:00</td>\n",
       "      <td>UTC</td>\n",
       "      <td>7</td>\n",
       "      <td>986.9</td>\n",
       "      <td>0</td>\n",
       "      <td>100</td>\n",
       "      <td>0</td>\n",
       "      <td>10.1</td>\n",
       "      <td>0.6</td>\n",
       "      <td>0</td>\n",
       "    </tr>\n",
       "  </tbody>\n",
       "</table>\n",
       "</div>"
      ],
      "text/plain": [
       "                     year  month  day   time Aikavyöhyke Pilvien määrä (1/8)  \\\n",
       "datetime                                                                       \n",
       "2022-09-15 20:00:00  2022      9   15  20:00         UTC                   7   \n",
       "2022-09-15 21:00:00  2022      9   15  21:00         UTC                   7   \n",
       "2022-09-15 22:00:00  2022      9   15  22:00         UTC                   7   \n",
       "2022-09-15 23:00:00  2022      9   15  23:00         UTC                   8   \n",
       "2022-09-16 00:00:00  2022      9   16  00:00         UTC                   7   \n",
       "\n",
       "                    Ilmanpaine (msl) (hPa) Sademäärä (mm)  \\\n",
       "datetime                                                    \n",
       "2022-09-15 20:00:00                  987.4            2.5   \n",
       "2022-09-15 21:00:00                  987.2            2.7   \n",
       "2022-09-15 22:00:00                  986.9              0   \n",
       "2022-09-15 23:00:00                    987              0   \n",
       "2022-09-16 00:00:00                  986.9              0   \n",
       "\n",
       "                    Suhteellinen kosteus (%) Sateen intensiteetti (mm/h)  \\\n",
       "datetime                                                                   \n",
       "2022-09-15 20:00:00                       98                         0.4   \n",
       "2022-09-15 21:00:00                      100                           0   \n",
       "2022-09-15 22:00:00                       99                           0   \n",
       "2022-09-15 23:00:00                      100                           0   \n",
       "2022-09-16 00:00:00                      100                           0   \n",
       "\n",
       "                    Ilman lämpötila (degC) Tuulen nopeus (m/s)  hour  \n",
       "datetime                                                              \n",
       "2022-09-15 20:00:00                   10.4                 1.8    20  \n",
       "2022-09-15 21:00:00                   11.4                 3.9    21  \n",
       "2022-09-15 22:00:00                   10.4                 1.2    22  \n",
       "2022-09-15 23:00:00                   10.3                 1.4    23  \n",
       "2022-09-16 00:00:00                   10.1                 0.6     0  "
      ]
     },
     "execution_count": 2,
     "metadata": {},
     "output_type": "execute_result"
    }
   ],
   "source": [
    "weather.tail()"
   ]
  },
  {
   "cell_type": "markdown",
   "metadata": {},
   "source": [
    "Then replacing the empty values, expressed as '-' to np.nan. Then changing the types of columns to float. (Integer does not work with np.nan)"
   ]
  },
  {
   "cell_type": "code",
   "execution_count": 3,
   "metadata": {},
   "outputs": [],
   "source": [
    "weather = weather.replace('-',np.nan)\n",
    "coltypes = {'Pilvien määrä (1/8)':np.float64, \n",
    "            'Ilmanpaine (msl) (hPa)': np.float64,\n",
    "            'Sademäärä (mm)' : np.float64,\n",
    "            'Suhteellinen kosteus (%)': np.float64,\n",
    "            'Sateen intensiteetti (mm/h)':np.float64,\n",
    "            'Ilman lämpötila (degC)':np.float64,\n",
    "            'Tuulen nopeus (m/s)':np.float64}\n",
    "\n",
    "weather = weather.astype(coltypes)"
   ]
  },
  {
   "cell_type": "code",
   "execution_count": 4,
   "metadata": {},
   "outputs": [],
   "source": [
    "colnames = {'Aikavyöhyke': 'time zone',\n",
    "            'Pilvien määrä (1/8)': 'clouds', \n",
    "            'Ilmanpaine (msl) (hPa)': 'pressure',\n",
    "            'Sademäärä (mm)' : 'rain',\n",
    "            'Suhteellinen kosteus (%)': 'humidity',\n",
    "            'Sateen intensiteetti (mm/h)': 'rain intensitety',\n",
    "            'Ilman lämpötila (degC)': 'temperature',\n",
    "            'Tuulen nopeus (m/s)': 'wind'}\n",
    "\n",
    "weather = weather.rename(columns=colnames)"
   ]
  },
  {
   "cell_type": "markdown",
   "metadata": {},
   "source": [
    "Replacing na-values with the neighbours values mean. There were very little missing values."
   ]
  },
  {
   "cell_type": "code",
   "execution_count": 5,
   "metadata": {},
   "outputs": [],
   "source": [
    "weather['pressure'] = weather['pressure'].ffill().add(weather['pressure'].bfill()).div(2)\n",
    "weather['rain'] = weather['rain'].ffill().add(weather['rain'].bfill()).div(2)\n",
    "weather['humidity'] = weather['humidity'].ffill().add(weather['humidity'].bfill()).div(2)\n",
    "weather['temperature'] = weather['temperature'].ffill().add(weather['temperature'].bfill()).div(2)\n",
    "weather['wind'] = weather['wind'].ffill().add(weather['wind'].bfill()).div(2)"
   ]
  },
  {
   "cell_type": "code",
   "execution_count": 6,
   "metadata": {},
   "outputs": [
    {
     "data": {
      "text/html": [
       "<div>\n",
       "<style scoped>\n",
       "    .dataframe tbody tr th:only-of-type {\n",
       "        vertical-align: middle;\n",
       "    }\n",
       "\n",
       "    .dataframe tbody tr th {\n",
       "        vertical-align: top;\n",
       "    }\n",
       "\n",
       "    .dataframe thead th {\n",
       "        text-align: right;\n",
       "    }\n",
       "</style>\n",
       "<table border=\"1\" class=\"dataframe\">\n",
       "  <thead>\n",
       "    <tr style=\"text-align: right;\">\n",
       "      <th></th>\n",
       "      <th>year</th>\n",
       "      <th>month</th>\n",
       "      <th>day</th>\n",
       "      <th>time</th>\n",
       "      <th>time zone</th>\n",
       "      <th>clouds</th>\n",
       "      <th>pressure</th>\n",
       "      <th>rain</th>\n",
       "      <th>humidity</th>\n",
       "      <th>rain intensitety</th>\n",
       "      <th>temperature</th>\n",
       "      <th>wind</th>\n",
       "      <th>hour</th>\n",
       "    </tr>\n",
       "    <tr>\n",
       "      <th>datetime</th>\n",
       "      <th></th>\n",
       "      <th></th>\n",
       "      <th></th>\n",
       "      <th></th>\n",
       "      <th></th>\n",
       "      <th></th>\n",
       "      <th></th>\n",
       "      <th></th>\n",
       "      <th></th>\n",
       "      <th></th>\n",
       "      <th></th>\n",
       "      <th></th>\n",
       "      <th></th>\n",
       "    </tr>\n",
       "  </thead>\n",
       "  <tbody>\n",
       "    <tr>\n",
       "      <th>2019-01-01 00:00:00</th>\n",
       "      <td>2019</td>\n",
       "      <td>1</td>\n",
       "      <td>1</td>\n",
       "      <td>00:00</td>\n",
       "      <td>UTC</td>\n",
       "      <td>8.0</td>\n",
       "      <td>1000.9</td>\n",
       "      <td>0.9</td>\n",
       "      <td>97.0</td>\n",
       "      <td>1.1</td>\n",
       "      <td>0.8</td>\n",
       "      <td>7.9</td>\n",
       "      <td>0</td>\n",
       "    </tr>\n",
       "    <tr>\n",
       "      <th>2019-01-01 01:00:00</th>\n",
       "      <td>2019</td>\n",
       "      <td>1</td>\n",
       "      <td>1</td>\n",
       "      <td>01:00</td>\n",
       "      <td>UTC</td>\n",
       "      <td>8.0</td>\n",
       "      <td>998.7</td>\n",
       "      <td>2.2</td>\n",
       "      <td>97.0</td>\n",
       "      <td>2.4</td>\n",
       "      <td>1.5</td>\n",
       "      <td>8.5</td>\n",
       "      <td>1</td>\n",
       "    </tr>\n",
       "    <tr>\n",
       "      <th>2019-01-01 02:00:00</th>\n",
       "      <td>2019</td>\n",
       "      <td>1</td>\n",
       "      <td>1</td>\n",
       "      <td>02:00</td>\n",
       "      <td>UTC</td>\n",
       "      <td>8.0</td>\n",
       "      <td>996.6</td>\n",
       "      <td>1.7</td>\n",
       "      <td>98.0</td>\n",
       "      <td>0.8</td>\n",
       "      <td>2.0</td>\n",
       "      <td>9.8</td>\n",
       "      <td>2</td>\n",
       "    </tr>\n",
       "    <tr>\n",
       "      <th>2019-01-01 03:00:00</th>\n",
       "      <td>2019</td>\n",
       "      <td>1</td>\n",
       "      <td>1</td>\n",
       "      <td>03:00</td>\n",
       "      <td>UTC</td>\n",
       "      <td>8.0</td>\n",
       "      <td>994.2</td>\n",
       "      <td>0.3</td>\n",
       "      <td>98.0</td>\n",
       "      <td>0.0</td>\n",
       "      <td>2.4</td>\n",
       "      <td>8.9</td>\n",
       "      <td>3</td>\n",
       "    </tr>\n",
       "    <tr>\n",
       "      <th>2019-01-01 04:00:00</th>\n",
       "      <td>2019</td>\n",
       "      <td>1</td>\n",
       "      <td>1</td>\n",
       "      <td>04:00</td>\n",
       "      <td>UTC</td>\n",
       "      <td>8.0</td>\n",
       "      <td>992.0</td>\n",
       "      <td>0.4</td>\n",
       "      <td>98.0</td>\n",
       "      <td>0.5</td>\n",
       "      <td>2.5</td>\n",
       "      <td>7.6</td>\n",
       "      <td>4</td>\n",
       "    </tr>\n",
       "  </tbody>\n",
       "</table>\n",
       "</div>"
      ],
      "text/plain": [
       "                     year  month  day   time time zone  clouds  pressure  \\\n",
       "datetime                                                                   \n",
       "2019-01-01 00:00:00  2019      1    1  00:00       UTC     8.0    1000.9   \n",
       "2019-01-01 01:00:00  2019      1    1  01:00       UTC     8.0     998.7   \n",
       "2019-01-01 02:00:00  2019      1    1  02:00       UTC     8.0     996.6   \n",
       "2019-01-01 03:00:00  2019      1    1  03:00       UTC     8.0     994.2   \n",
       "2019-01-01 04:00:00  2019      1    1  04:00       UTC     8.0     992.0   \n",
       "\n",
       "                     rain  humidity  rain intensitety  temperature  wind  hour  \n",
       "datetime                                                                        \n",
       "2019-01-01 00:00:00   0.9      97.0               1.1          0.8   7.9     0  \n",
       "2019-01-01 01:00:00   2.2      97.0               2.4          1.5   8.5     1  \n",
       "2019-01-01 02:00:00   1.7      98.0               0.8          2.0   9.8     2  \n",
       "2019-01-01 03:00:00   0.3      98.0               0.0          2.4   8.9     3  \n",
       "2019-01-01 04:00:00   0.4      98.0               0.5          2.5   7.6     4  "
      ]
     },
     "execution_count": 6,
     "metadata": {},
     "output_type": "execute_result"
    }
   ],
   "source": [
    "weather.head()"
   ]
  },
  {
   "cell_type": "code",
   "execution_count": 65,
   "metadata": {},
   "outputs": [
    {
     "data": {
      "text/html": [
       "<div>\n",
       "<style scoped>\n",
       "    .dataframe tbody tr th:only-of-type {\n",
       "        vertical-align: middle;\n",
       "    }\n",
       "\n",
       "    .dataframe tbody tr th {\n",
       "        vertical-align: top;\n",
       "    }\n",
       "\n",
       "    .dataframe thead th {\n",
       "        text-align: right;\n",
       "    }\n",
       "</style>\n",
       "<table border=\"1\" class=\"dataframe\">\n",
       "  <thead>\n",
       "    <tr style=\"text-align: right;\">\n",
       "      <th></th>\n",
       "      <th>year</th>\n",
       "      <th>month</th>\n",
       "      <th>day</th>\n",
       "      <th>pressure</th>\n",
       "      <th>rain</th>\n",
       "      <th>humidity</th>\n",
       "      <th>temperature</th>\n",
       "      <th>wind</th>\n",
       "      <th>hour</th>\n",
       "      <th>weekday</th>\n",
       "    </tr>\n",
       "    <tr>\n",
       "      <th>datetime</th>\n",
       "      <th></th>\n",
       "      <th></th>\n",
       "      <th></th>\n",
       "      <th></th>\n",
       "      <th></th>\n",
       "      <th></th>\n",
       "      <th></th>\n",
       "      <th></th>\n",
       "      <th></th>\n",
       "      <th></th>\n",
       "    </tr>\n",
       "  </thead>\n",
       "  <tbody>\n",
       "    <tr>\n",
       "      <th>2019-01-01 00:00:00</th>\n",
       "      <td>2019</td>\n",
       "      <td>1</td>\n",
       "      <td>1</td>\n",
       "      <td>1000.9</td>\n",
       "      <td>0.9</td>\n",
       "      <td>97.0</td>\n",
       "      <td>0.8</td>\n",
       "      <td>7.9</td>\n",
       "      <td>0</td>\n",
       "      <td>1</td>\n",
       "    </tr>\n",
       "    <tr>\n",
       "      <th>2019-01-01 01:00:00</th>\n",
       "      <td>2019</td>\n",
       "      <td>1</td>\n",
       "      <td>1</td>\n",
       "      <td>998.7</td>\n",
       "      <td>2.2</td>\n",
       "      <td>97.0</td>\n",
       "      <td>1.5</td>\n",
       "      <td>8.5</td>\n",
       "      <td>1</td>\n",
       "      <td>1</td>\n",
       "    </tr>\n",
       "    <tr>\n",
       "      <th>2019-01-01 02:00:00</th>\n",
       "      <td>2019</td>\n",
       "      <td>1</td>\n",
       "      <td>1</td>\n",
       "      <td>996.6</td>\n",
       "      <td>1.7</td>\n",
       "      <td>98.0</td>\n",
       "      <td>2.0</td>\n",
       "      <td>9.8</td>\n",
       "      <td>2</td>\n",
       "      <td>1</td>\n",
       "    </tr>\n",
       "    <tr>\n",
       "      <th>2019-01-01 03:00:00</th>\n",
       "      <td>2019</td>\n",
       "      <td>1</td>\n",
       "      <td>1</td>\n",
       "      <td>994.2</td>\n",
       "      <td>0.3</td>\n",
       "      <td>98.0</td>\n",
       "      <td>2.4</td>\n",
       "      <td>8.9</td>\n",
       "      <td>3</td>\n",
       "      <td>1</td>\n",
       "    </tr>\n",
       "    <tr>\n",
       "      <th>2019-01-01 04:00:00</th>\n",
       "      <td>2019</td>\n",
       "      <td>1</td>\n",
       "      <td>1</td>\n",
       "      <td>992.0</td>\n",
       "      <td>0.4</td>\n",
       "      <td>98.0</td>\n",
       "      <td>2.5</td>\n",
       "      <td>7.6</td>\n",
       "      <td>4</td>\n",
       "      <td>1</td>\n",
       "    </tr>\n",
       "  </tbody>\n",
       "</table>\n",
       "</div>"
      ],
      "text/plain": [
       "                     year  month  day  pressure  rain  humidity  temperature  \\\n",
       "datetime                                                                       \n",
       "2019-01-01 00:00:00  2019      1    1    1000.9   0.9      97.0          0.8   \n",
       "2019-01-01 01:00:00  2019      1    1     998.7   2.2      97.0          1.5   \n",
       "2019-01-01 02:00:00  2019      1    1     996.6   1.7      98.0          2.0   \n",
       "2019-01-01 03:00:00  2019      1    1     994.2   0.3      98.0          2.4   \n",
       "2019-01-01 04:00:00  2019      1    1     992.0   0.4      98.0          2.5   \n",
       "\n",
       "                     wind  hour  weekday  \n",
       "datetime                                  \n",
       "2019-01-01 00:00:00   7.9     0        1  \n",
       "2019-01-01 01:00:00   8.5     1        1  \n",
       "2019-01-01 02:00:00   9.8     2        1  \n",
       "2019-01-01 03:00:00   8.9     3        1  \n",
       "2019-01-01 04:00:00   7.6     4        1  "
      ]
     },
     "execution_count": 65,
     "metadata": {},
     "output_type": "execute_result"
    }
   ],
   "source": [
    "weather = weather.drop(columns=['time','clouds', 'time zone', 'rain intensitety'])\n",
    "weather['weekday'] = weather.index.day_of_week\n",
    "weather.head()"
   ]
  },
  {
   "cell_type": "code",
   "execution_count": 7,
   "metadata": {},
   "outputs": [
    {
     "data": {
      "text/plain": [
       "<AxesSubplot:title={'center':'Temperature'}, xlabel='datetime'>"
      ]
     },
     "execution_count": 7,
     "metadata": {},
     "output_type": "execute_result"
    },
    {
     "data": {
      "image/png": "[encoded data removed]",
      "text/plain": [
       "<Figure size 1500x500 with 1 Axes>"
      ]
     },
     "metadata": {},
     "output_type": "display_data"
    }
   ],
   "source": [
    "import matplotlib.pyplot as plt\n",
    "fig, ax = plt.subplots()\n",
    "\n",
    "weather.loc[:,'temperature'].plot(ax=ax, style='.', color='yellow', figsize=(15,5), title='Temperature')\n",
    "weather.loc[:,'rain'].plot(ax=ax, style='-', figsize=(15,5), title='Temperature')"
   ]
  },
  {
   "cell_type": "code",
   "execution_count": 10,
   "metadata": {},
   "outputs": [],
   "source": [
    "weather[['pressure','rain','humidity','temperature','wind']].to_parquet('../data/processed_data/weather.parquet')"
   ]
  },
  {
   "cell_type": "markdown",
   "metadata": {},
   "source": [
    "Add lags"
   ]
  },
  {
   "cell_type": "code",
   "execution_count": 67,
   "metadata": {},
   "outputs": [],
   "source": [
    "def add_lags(df, colname, shortname):\n",
    "    target_map = df[colname].to_dict()\n",
    "    df[shortname + '_lag1'] = (df.index - pd.Timedelta('364 days')).map(target_map)\n",
    "    df[shortname + '_lag2'] = (df.index - pd.Timedelta('728 days')).map(target_map)\n",
    "    df[shortname + '_lag3'] = (df.index - pd.Timedelta('1092 days')).map(target_map)\n",
    "    return df\n",
    "\n",
    "weather = add_lags(weather, 'pressure', 'pr')\n",
    "weather = add_lags(weather, 'rain', 'rain')\n",
    "weather = add_lags(weather, 'humidity', 'hum')\n",
    "weather = add_lags(weather, 'temperature', 'temp')\n",
    "weather = add_lags(weather, 'wind', 'win')"
   ]
  },
  {
   "cell_type": "markdown",
   "metadata": {},
   "source": [
    "Predict future"
   ]
  },
  {
   "cell_type": "code",
   "execution_count": 69,
   "metadata": {},
   "outputs": [],
   "source": [
    "def trainmodel(FEATURES, TARGET):\n",
    "        X_all = weather[FEATURES]\n",
    "        y_all = weather[TARGET]\n",
    "\n",
    "        reg = xgb.XGBRegressor(n_estimators=1000)\n",
    "        reg.fit(X_all, y_all,\n",
    "                eval_set=[(X_all, y_all)],\n",
    "                verbose=100)\n",
    "        return reg"
   ]
  },
  {
   "cell_type": "code",
   "execution_count": 70,
   "metadata": {},
   "outputs": [],
   "source": [
    "# Create future dataframe\n",
    "future = pd.date_range(weather.index.max(),'2023-01-01', freq='1h')\n",
    "future_df = pd.DataFrame(index=future)\n",
    "future_df['isFuture'] = True\n",
    "weather['isFuture'] = False\n",
    "df_and_future = pd.concat([weather, future_df])\n",
    "df_and_future = add_lags(df_and_future,'pressure', 'pr')\n",
    "df_and_future  = add_lags(df_and_future , 'rain', 'rain')\n",
    "df_and_future  = add_lags(df_and_future , 'humidity', 'hum')\n",
    "df_and_future  = add_lags(df_and_future , 'temperature', 'temp')\n",
    "df_and_future  = add_lags(df_and_future , 'wind', 'win')\n",
    "future_w_features = df_and_future.query('isFuture').copy()"
   ]
  },
  {
   "cell_type": "code",
   "execution_count": 76,
   "metadata": {},
   "outputs": [
    {
     "name": "stdout",
     "output_type": "stream",
     "text": [
      "[0]\tvalidation_0-rmse:707.85211\n"
     ]
    },
    {
     "name": "stderr",
     "output_type": "stream",
     "text": [
      "/home/sakorpi/.conda/envs/conda-ml/lib/python3.9/site-packages/xgboost/data.py:250: FutureWarning: pandas.Int64Index is deprecated and will be removed from pandas in a future version. Use pandas.Index with the appropriate dtype instead.\n",
      "  elif isinstance(data.columns, (pd.Int64Index, pd.RangeIndex)):\n"
     ]
    },
    {
     "name": "stdout",
     "output_type": "stream",
     "text": [
      "[100]\tvalidation_0-rmse:6.19710\n",
      "[200]\tvalidation_0-rmse:5.40151\n",
      "[300]\tvalidation_0-rmse:4.86713\n",
      "[400]\tvalidation_0-rmse:4.48574\n",
      "[500]\tvalidation_0-rmse:4.14863\n",
      "[600]\tvalidation_0-rmse:3.88428\n",
      "[700]\tvalidation_0-rmse:3.66492\n",
      "[800]\tvalidation_0-rmse:3.41445\n",
      "[900]\tvalidation_0-rmse:3.22429\n",
      "[999]\tvalidation_0-rmse:3.06811\n",
      "[0]\tvalidation_0-rmse:0.50916\n"
     ]
    },
    {
     "name": "stderr",
     "output_type": "stream",
     "text": [
      "/home/sakorpi/.conda/envs/conda-ml/lib/python3.9/site-packages/xgboost/data.py:250: FutureWarning: pandas.Int64Index is deprecated and will be removed from pandas in a future version. Use pandas.Index with the appropriate dtype instead.\n",
      "  elif isinstance(data.columns, (pd.Int64Index, pd.RangeIndex)):\n"
     ]
    },
    {
     "name": "stdout",
     "output_type": "stream",
     "text": [
      "[100]\tvalidation_0-rmse:0.23504\n",
      "[200]\tvalidation_0-rmse:0.18255\n",
      "[300]\tvalidation_0-rmse:0.15199\n",
      "[400]\tvalidation_0-rmse:0.12995\n",
      "[500]\tvalidation_0-rmse:0.11160\n",
      "[600]\tvalidation_0-rmse:0.09836\n",
      "[700]\tvalidation_0-rmse:0.08863\n",
      "[800]\tvalidation_0-rmse:0.08068\n",
      "[900]\tvalidation_0-rmse:0.07311\n",
      "[999]\tvalidation_0-rmse:0.06723\n",
      "[0]\tvalidation_0-rmse:55.80530\n"
     ]
    },
    {
     "name": "stderr",
     "output_type": "stream",
     "text": [
      "/home/sakorpi/.conda/envs/conda-ml/lib/python3.9/site-packages/xgboost/data.py:250: FutureWarning: pandas.Int64Index is deprecated and will be removed from pandas in a future version. Use pandas.Index with the appropriate dtype instead.\n",
      "  elif isinstance(data.columns, (pd.Int64Index, pd.RangeIndex)):\n"
     ]
    },
    {
     "name": "stdout",
     "output_type": "stream",
     "text": [
      "[100]\tvalidation_0-rmse:8.56948\n",
      "[200]\tvalidation_0-rmse:7.54718\n",
      "[300]\tvalidation_0-rmse:6.85144\n",
      "[400]\tvalidation_0-rmse:6.27434\n",
      "[500]\tvalidation_0-rmse:5.85611\n",
      "[600]\tvalidation_0-rmse:5.44561\n",
      "[700]\tvalidation_0-rmse:5.08453\n",
      "[800]\tvalidation_0-rmse:4.78027\n",
      "[900]\tvalidation_0-rmse:4.49236\n",
      "[999]\tvalidation_0-rmse:4.24369\n",
      "[0]\tvalidation_0-rmse:8.39654\n"
     ]
    },
    {
     "name": "stderr",
     "output_type": "stream",
     "text": [
      "/home/sakorpi/.conda/envs/conda-ml/lib/python3.9/site-packages/xgboost/data.py:250: FutureWarning: pandas.Int64Index is deprecated and will be removed from pandas in a future version. Use pandas.Index with the appropriate dtype instead.\n",
      "  elif isinstance(data.columns, (pd.Int64Index, pd.RangeIndex)):\n"
     ]
    },
    {
     "name": "stdout",
     "output_type": "stream",
     "text": [
      "[100]\tvalidation_0-rmse:2.31779\n",
      "[200]\tvalidation_0-rmse:2.08268\n",
      "[300]\tvalidation_0-rmse:1.92567\n",
      "[400]\tvalidation_0-rmse:1.80949\n",
      "[500]\tvalidation_0-rmse:1.69402\n",
      "[600]\tvalidation_0-rmse:1.60551\n",
      "[700]\tvalidation_0-rmse:1.51984\n",
      "[800]\tvalidation_0-rmse:1.44978\n",
      "[900]\tvalidation_0-rmse:1.37947\n",
      "[999]\tvalidation_0-rmse:1.32398\n",
      "[0]\tvalidation_0-rmse:3.42287\n"
     ]
    },
    {
     "name": "stderr",
     "output_type": "stream",
     "text": [
      "/home/sakorpi/.conda/envs/conda-ml/lib/python3.9/site-packages/xgboost/data.py:250: FutureWarning: pandas.Int64Index is deprecated and will be removed from pandas in a future version. Use pandas.Index with the appropriate dtype instead.\n",
      "  elif isinstance(data.columns, (pd.Int64Index, pd.RangeIndex)):\n"
     ]
    },
    {
     "name": "stdout",
     "output_type": "stream",
     "text": [
      "[100]\tvalidation_0-rmse:1.41102\n",
      "[200]\tvalidation_0-rmse:1.28573\n",
      "[300]\tvalidation_0-rmse:1.18630\n",
      "[400]\tvalidation_0-rmse:1.09933\n",
      "[500]\tvalidation_0-rmse:1.03765\n",
      "[600]\tvalidation_0-rmse:0.97849\n",
      "[700]\tvalidation_0-rmse:0.92904\n",
      "[800]\tvalidation_0-rmse:0.88622\n",
      "[900]\tvalidation_0-rmse:0.84538\n",
      "[999]\tvalidation_0-rmse:0.80986\n"
     ]
    }
   ],
   "source": [
    "#Fill future table with predictions\n",
    "FEATURES = ['year','month','pr_lag1','pr_lag2','pr_lag3','hour', 'temperature','wind']\n",
    "future_w_features['pressure'] = trainmodel(FEATURES, 'pressure').predict(future_w_features[FEATURES])\n",
    "\n",
    "FEATURES = ['rain_lag1','rain_lag2','rain_lag3','temperature','wind','humidity']\n",
    "future_w_features['rain'] = trainmodel(FEATURES,'rain').predict(future_w_features[FEATURES])\n",
    "\n",
    "FEATURES = ['year','month','hour','hum_lag1','hum_lag2','hum_lag3','temperature','wind','rain']\n",
    "future_w_features['humidity'] = trainmodel(FEATURES,'humidity').predict(future_w_features[FEATURES])\n",
    "\n",
    "FEATURES = ['year','month','hour','temp_lag1','temp_lag2','temp_lag3','wind','humidity']\n",
    "future_w_features['temperature'] = trainmodel(FEATURES,'temperature').predict(future_w_features[FEATURES])\n",
    "\n",
    "FEATURES = ['year','month','win_lag1','win_lag2','win_lag3','temperature','rain','humidity']\n",
    "future_w_features['wind'] = trainmodel(FEATURES,'wind').predict(future_w_features[FEATURES])"
   ]
  },
  {
   "cell_type": "code",
   "execution_count": 86,
   "metadata": {},
   "outputs": [],
   "source": [
    "#prediction made values below zero -c hange them to zero\n",
    "future_w_features['rain'] = future_w_features['rain'].apply(lambda r: 0 if r <= 0 else r)"
   ]
  },
  {
   "cell_type": "code",
   "execution_count": 89,
   "metadata": {},
   "outputs": [
    {
     "data": {
      "text/plain": [
       "Index(['year', 'month', 'day', 'pressure', 'rain', 'humidity', 'temperature',\n",
       "       'wind', 'hour', 'weekday', 'pr_lag1', 'pr_lag2', 'pr_lag3', 'rain_lag1',\n",
       "       'rain_lag2', 'rain_lag3', 'hum_lag1', 'hum_lag2', 'hum_lag3',\n",
       "       'temp_lag1', 'temp_lag2', 'temp_lag3', 'win_lag1', 'win_lag2',\n",
       "       'win_lag3', 'isFuture', 'dayofweek', 'quarter', 'dayofyear',\n",
       "       'dayofmonth', 'weekofyear'],\n",
       "      dtype='object')"
      ]
     },
     "execution_count": 89,
     "metadata": {},
     "output_type": "execute_result"
    }
   ],
   "source": [
    "future_w_features.columns"
   ]
  },
  {
   "cell_type": "code",
   "execution_count": 90,
   "metadata": {},
   "outputs": [],
   "source": [
    "future_w_features[['pressure', 'rain', 'humidity', 'temperature',\n",
    "       'wind', 'pr_lag1', 'pr_lag2', 'pr_lag3', 'rain_lag1',\n",
    "       'rain_lag2', 'rain_lag3', 'hum_lag1', 'hum_lag2', 'hum_lag3',\n",
    "       'temp_lag1', 'temp_lag2', 'temp_lag3', 'win_lag1', 'win_lag2',\n",
    "       'win_lag3']].to_parquet('../future_data/weather.parquet')"
   ]
  }
 ],
 "metadata": {
  "kernelspec": {
   "display_name": "Python 3.9.13 ('conda-ml')",
   "language": "python",
   "name": "python3"
  },
  "language_info": {
   "codemirror_mode": {
    "name": "ipython",
    "version": 3
   },
   "file_extension": ".py",
   "mimetype": "text/x-python",
   "name": "python",
   "nbconvert_exporter": "python",
   "pygments_lexer": "ipython3",
   "version": "3.9.13"
  },
  "orig_nbformat": 4,
  "vscode": {
   "interpreter": {
    "hash": "e4c8689fa7c74649868187aab0b965fb0f5dee9f9bb6010e0e51e00b08feaac8"
   }
  }
 },
 "nbformat": 4,
 "nbformat_minor": 2
}
